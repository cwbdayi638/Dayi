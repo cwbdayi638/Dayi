{
  "nbformat": 4,
  "nbformat_minor": 0,
  "metadata": {
    "colab": {
      "provenance": [],
      "authorship_tag": "ABX9TyO2oB3faJW9J6PK9pfsAD+G",
      "include_colab_link": true
    },
    "kernelspec": {
      "name": "python3",
      "display_name": "Python 3"
    },
    "language_info": {
      "name": "python"
    }
  },
  "cells": [
    {
      "cell_type": "markdown",
      "metadata": {
        "id": "view-in-github",
        "colab_type": "text"
      },
      "source": [
        "<a href=\"https://colab.research.google.com/github/cwbdayi638/Dayi/blob/main/GoogleSearch.ipynb\" target=\"_parent\"><img src=\"https://colab.research.google.com/assets/colab-badge.svg\" alt=\"Open In Colab\"/></a>"
      ]
    },
    {
      "cell_type": "markdown",
      "source": [
        "Install"
      ],
      "metadata": {
        "id": "65jZzA6L955M"
      }
    },
    {
      "cell_type": "code",
      "execution_count": 1,
      "metadata": {
        "id": "edWe3Jjt893R"
      },
      "outputs": [],
      "source": [
        "!pip -q install googlesearch-python"
      ]
    },
    {
      "cell_type": "code",
      "source": [
        "from googlesearch import search\n",
        "for url in search('Dify', advanced=True):\n",
        "    print(url)"
      ],
      "metadata": {
        "colab": {
          "base_uri": "https://localhost:8080/"
        },
        "id": "pSlctieV-BIa",
        "outputId": "ce4d3da8-91e3-4857-db92-a94dd14a9a25"
      },
      "execution_count": 2,
      "outputs": [
        {
          "output_type": "stream",
          "name": "stdout",
          "text": [
            "SearchResult(url=https://cloud.dify.ai/, title=Dify, description= Hey, let's get started! Welcome to Dify, please log in to continue. Continue with GitHub · Continue with Google. OR. Email address. Continue With Code. )\n",
            "SearchResult(url=https://github.com/langgenius/dify, title=langgenius/dify: Production-ready platform for agentic ... - GitHub, description= Dify is an open-source LLM app development platform. Its intuitive interface combines agentic AI workflow, RAG pipeline, agent capabilities, model management, ... )\n",
            "SearchResult(url=https://docs.dify.ai/en/introduction, title=Dify Docs: Introduction, description= Dify is an open-source platform for building AI applications. We combine Backend-as-a-Service and LLMOps to streamline the development of generative AI ... )\n",
            "SearchResult(url=https://dify.ai/pricing, title=Dify AI · Plans and Pricing, description= Unlock Agentic AI with Dify. Develop, deploy, and manage autonomous agents, RAG pipelines, and more for teams at any scale, effortlessly. )\n",
            "SearchResult(url=https://dify.ai/education, title=Shape the Future with AI Education - Dify, description= Learn and build the future with AI. Dify for Education provides hands-on tools empowering students and educators to become AI innovators – and we have plans ... )\n",
            "SearchResult(url=https://www.datacamp.com/tutorial/dify, title=Dify AI: A Guide With Demo Project - DataCamp, description= 29 May 2025  ·  Dify is a user-friendly platform that helps you build AI applications with low or no code required. It works by dragging and dropping blocks with different ... )\n",
            "SearchResult(url=https://dify.ai/blog/v1-6-0-built-in-two-way-mcp-support, title=Dify v1.6.0: Built-in Two-Way MCP Support, description= 5 days ago  ·  Unlock Agentic AI with Dify. Develop, deploy, and manage autonomous agents, RAG pipelines, and more for teams at any scale, effortlessly. )\n",
            "SearchResult(url=https://aiagentstore.ai/ai-agent/dify, title=Dify - AI Agent Store, description= Dify is an open-source platform designed to simplify the development of AI applications utilizing large language models (LLMs). )\n",
            "SearchResult(url=https://dify101.com/, title=Dify 101 Tutorial: Comprehensive Guide to Master Dify.ai | No-Code ..., description= Dify tutorial: Unlock the power of Dify.ai. Learn to build AI applications using LLMOps. From basics to advanced techniques, our tutorials cover prompt ... )\n",
            "SearchResult(url=https://www.udemy.com/course/dify-ai-en/?srsltid=AfmBOooh625dr3GWsdlWxWjCBrTRdhY-jbRwudIfAs7bfmnU-n6YbZ09, title=Dify: Develop chatbots and AI workflows without code - Udemy, description= In this course, you will learn how to develop chatbots, virtual assistants, and intelligent tools using Dify, an open-source platform designed to orchestrate ... )\n"
          ]
        }
      ]
    },
    {
      "cell_type": "code",
      "source": [],
      "metadata": {
        "id": "_mpvXcJA4vlk"
      },
      "execution_count": null,
      "outputs": []
    }
  ]
}